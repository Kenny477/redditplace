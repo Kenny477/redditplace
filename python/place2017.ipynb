{
 "cells": [
  {
   "cell_type": "markdown",
   "metadata": {},
   "source": [
    "#### Setup"
   ]
  },
  {
   "cell_type": "code",
   "execution_count": 2,
   "metadata": {},
   "outputs": [
    {
     "name": "stdout",
     "output_type": "stream",
     "text": [
      "                                   ts                 user_hash  x_coordinate  \\\n",
      "0         2017-04-27 22:15:40.025 UTC  aib1BubZbdy0OulI0vBm4A==           NaN   \n",
      "1         2017-04-27 22:14:45.713 UTC  aib1BubZbdy0OulI0vBm4A==           NaN   \n",
      "2         2017-04-03 04:31:56.474 UTC  xUiQPSEcihMTMzWlztL4Mw==         139.0   \n",
      "3         2017-04-03 15:26:24.002 UTC  ZgQ7jYdcbcCBwhAGW3z3kA==         496.0   \n",
      "4         2017-04-03 07:04:20.572 UTC  aUwTots+Kb36VauM28FizA==         175.0   \n",
      "...                               ...                       ...           ...   \n",
      "16567562  2017-04-01 19:46:30.016 UTC  vDPqqKixKB1UPB0bCs6zXg==          33.0   \n",
      "16567563  2017-04-01 22:14:12.734 UTC  sosklGzZH4V6ZvoIC9Hp2w==         661.0   \n",
      "16567564  2017-04-01 03:58:11.645 UTC  NBBDUheuBO3w0Ro8Ya9BrQ==          37.0   \n",
      "16567565  2017-04-01 09:11:21.455 UTC  PqSxYJLA649CQLpeHMnKXQ==         938.0   \n",
      "16567566  2017-04-01 03:49:13.406 UTC  Le4MLIr0tztYr+F0uRTI8A==          13.0   \n",
      "\n",
      "          y_coordinate  color  \n",
      "0                  NaN    NaN  \n",
      "1                  NaN    NaN  \n",
      "2                337.0    0.0  \n",
      "3                408.0    0.0  \n",
      "4                365.0    0.0  \n",
      "...                ...    ...  \n",
      "16567562          61.0   15.0  \n",
      "16567563         999.0   15.0  \n",
      "16567564          53.0   15.0  \n",
      "16567565         992.0   15.0  \n",
      "16567566          33.0   15.0  \n",
      "\n",
      "[16567567 rows x 5 columns]\n"
     ]
    }
   ],
   "source": [
    "import pandas as pd\n",
    "import numpy as np\n",
    "import matplotlib.pyplot as plt\n",
    "\n",
    "# Load data\n",
    "df = pd.read_parquet('../data/place2017.parquet')\n",
    "print(df)"
   ]
  },
  {
   "cell_type": "markdown",
   "metadata": {},
   "source": [
    "####  Group users"
   ]
  },
  {
   "cell_type": "code",
   "execution_count": 3,
   "metadata": {},
   "outputs": [
    {
     "name": "stdout",
     "output_type": "stream",
     "text": [
      "                                                                         ts\n",
      "user_hash                                                                  \n",
      "+++1Vlz/HynORyNN6KYW3A==  [2017-04-03 00:28:21.311 UTC, 2017-04-03 00:35...\n",
      "+++65/Gtr3bsfIyGiYZM3Q==  [2017-04-02 23:14:44.327 UTC, 2017-04-02 22:32...\n",
      "+++BM/n7/vMYhc7MJuClGA==                      [2017-04-03 09:52:00.083 UTC]\n",
      "+++CLfpHJ1E6dJxNoVaAiQ==  [2017-03-31 22:10:07.152 UTC, 2017-04-01 03:51...\n",
      "+++HgAkMMJuZLTCjfEYjhg==  [2017-04-03 09:25:52.062 UTC, 2017-04-03 10:50...\n",
      "...                                                                     ...\n",
      "zzyZf4MB/9V4iAjuju3NRA==                      [2017-04-01 22:35:38.201 UTC]\n",
      "zzyf4Z97aYdH/MVMxiDsVg==  [2017-04-03 10:17:14.125 UTC, 2017-04-03 10:12...\n",
      "zzyp7hBp7QI01EArOmJiWA==  [2017-04-01 13:05:08.022 UTC, 2017-04-03 11:23...\n",
      "zzzIJOLsQ2VV4ugj8BJ5qQ==                      [2017-04-01 17:50:57.146 UTC]\n",
      "zzzUNPBEy7uWqa44Wgy19w==                      [2017-04-03 07:26:51.889 UTC]\n",
      "\n",
      "[1166940 rows x 1 columns]\n"
     ]
    }
   ],
   "source": [
    "# Get list of timestamps for each user\n",
    "user_time = df.drop(['x_coordinate', 'y_coordinate', 'color'], axis=1)\n",
    "user_time = user_time.groupby(['user_hash'])['ts'].apply(np.array)\n",
    "user_time = user_time.to_frame(name=\"ts\")\n",
    "print(user_time)"
   ]
  },
  {
   "cell_type": "markdown",
   "metadata": {},
   "source": [
    "#### Create histogram for pixels placed by users"
   ]
  },
  {
   "cell_type": "code",
   "execution_count": 4,
   "metadata": {},
   "outputs": [
    {
     "data": {
      "image/png": "[encoded data removed]",
      "text/plain": [
       "<Figure size 432x288 with 1 Axes>"
      ]
     },
     "metadata": {
      "needs_background": "light"
     },
     "output_type": "display_data"
    }
   ],
   "source": [
    "# Add counter to each user\n",
    "user_time['count'] = user_time['ts'].apply(lambda x: len(x))\n",
    "\n",
    "plt.hist(user_time['count'], bins=100, density=True)\n",
    "plt.savefig('place2017_hist.png')"
   ]
  },
  {
   "cell_type": "markdown",
   "metadata": {},
   "source": [
    "#### Identify users who place the most pixels"
   ]
  },
  {
   "cell_type": "code",
   "execution_count": 5,
   "metadata": {},
   "outputs": [
    {
     "name": "stdout",
     "output_type": "stream",
     "text": [
      "                       user_hash  \\\n",
      "0       cshukVZuX0+xz8G+g2a/Mg==   \n",
      "1       zu9pk6gf6AFSAF5rbSbSVQ==   \n",
      "2       Bh89QQQr3o921DeyLlw2qQ==   \n",
      "3       TdZvo39XfSJxmD3os02voA==   \n",
      "4       fx8ccjRf1Nz++DZX6fvkOQ==   \n",
      "...                          ...   \n",
      "116689  fLP7EeF4VZjWG4n/LG7y0w==   \n",
      "116690  JBs4MIwgUj6PgxFaq2PCcQ==   \n",
      "116691  yf+4SMWLcFsuRRoIk3HSRw==   \n",
      "116692  qd34+cbBq/qUqQSLXPnhww==   \n",
      "116693  JBifck2MS/qV3YLM/ix6Aw==   \n",
      "\n",
      "                                                       ts  count  \n",
      "0       [2017-03-25 04:27:03.222 UTC, 2017-03-31 18:00...   1077  \n",
      "1       [2017-04-02 17:00:06.344 UTC, 2017-04-03 10:39...    656  \n",
      "2       [2017-03-24 21:59:41.791 UTC, 2017-03-24 21:57...    617  \n",
      "3       [2017-03-31 19:08:22.312 UTC, 2017-04-02 01:43...    611  \n",
      "4       [2017-04-02 17:22:27.921 UTC, 2017-04-02 18:51...    600  \n",
      "...                                                   ...    ...  \n",
      "116689  [2017-04-02 19:08:05.968 UTC, 2017-04-02 20:46...     39  \n",
      "116690  [2017-04-03 05:22:25.31 UTC, 2017-04-03 00:50:...     39  \n",
      "116691  [2017-04-01 16:20:01.156 UTC, 2017-04-02 18:18...     39  \n",
      "116692  [2017-03-31 20:30:18.073 UTC, 2017-03-31 20:25...     39  \n",
      "116693  [2017-04-02 20:37:20.848 UTC, 2017-04-02 19:34...     39  \n",
      "\n",
      "[116694 rows x 3 columns]\n"
     ]
    }
   ],
   "source": [
    "# Find users in the top 10%\n",
    "user_time_sorted = user_time.sort_values(by='count', ascending=False)\n",
    "user_time_sorted = user_time_sorted.reset_index()\n",
    "user_time_sorted = user_time_sorted.head(int(user_time_sorted.shape[0]*0.1))\n",
    "print(user_time_sorted)"
   ]
  },
  {
   "cell_type": "markdown",
   "metadata": {},
   "source": [
    "#### Look at top user timestamps"
   ]
  },
  {
   "cell_type": "code",
   "execution_count": 37,
   "metadata": {},
   "outputs": [
    {
     "name": "stdout",
     "output_type": "stream",
     "text": [
      "['2017-03-24 20:24:30.008 UTC' '2017-03-24 20:24:47.098 UTC'\n",
      " '2017-03-24 20:25:01.918 UTC' ... '2017-04-03 16:36:36.24 UTC'\n",
      " '2017-04-03 16:42:42.282 UTC' '2017-04-03 16:49:47.587 UTC']\n",
      "[17.09, 14.82, 17.85, 15.574, 13.689, 12.291, 11.969, 12.601, 14.905, 14.09, 15.136, 13.0, 14.628, 12.692, 13.947, 204.241, 942.817, 12.671, 14.889, 36.304, 20.434, 13.347, 13.322, 12.415, 14.491, 12.686, 12.913, 12.822, 26.542, 13.945, 12.388, 11.392, 13.365, 11.708, 13.02, 12.193, 12.442, 11.978, 19.79, 18.832, 13.149, 11.769, 12.597, 14.135, 15.898, 24.405, 14.473, 12.106, 12.139, 11.792, 12.611, 13.024, 12.676, 341.476, 12.792, 11.453, 25.761, 14.103, 22.728, 16.491, 12.657, 26.522, 12.713, 12.051, 26.594, 13.414, 12.686, 12.334, 11.901, 53.454, 16.665, 14.456, 16.179, 104.837, 13.717, 12.659, 12.038, 11.674, 18.992, 20.887, 12.576, 12.774, 13.354, 17.011, 22.98, 21.809, 12.723, 33.954, 13.637, 11.89, 12.19, 12.003, 15.018, 12.994, 13.302, 46.049, 12.921, 12.905, 12.274, 20.894, 35.011, 19.629, 12.769, 13.253, 16.088, 29.146, 20.993, 103.216, 13.155, 19.103, 11.453, 13.097, 14.706, 13.588, 104.956, 16.413, 39.349, 11.726, 18.076, 12.032, 12.188, 66.782, 31.581, 20.524, 14.368, 12.141, 13.511, 12.357, 14.029, 41.424, 13.469, 12.105, 12.027, 11.919, 12.438, 13.185, 12.845, 15.031, 11.785, 12.378, 11.725, 187.922, 204.87, 12.202, 15.071, 15.584, 14.196, 12.275, 12.304, 12.471, 19.484, 11.593, 11.187, 12.522, 11.819, 11.62, 13.634, 12.159, 12.258, 30.664, 12.202, 11.793, 14.322, 15.001, 11.326, 12.706, 19.82, 14.447, 12.411, 17.565, 19.915, 11.78, 12.103, 11.975, 12.263, 12.781, 12.188, 18.662, 11.915, 26.019, 16.852, 11.638, 11.923, 11.986, 13.407, 11.883, 23.4, 12.005, 12.974, 12.55, 12.415, 11.955, 11.732, 11.774, 11.526, 12.117, 13.864, 17.447, 14.395, 11.698, 11.657, 17.496, 23.663, 27.232, 31.723, 13.112, 13.828, 16.429, 12.582, 18.575, 13.917, 13.602, 12.493, 13.394, 17.628, 12.154, 27.517, 11.955, 187.685, 12.043, 40.166, 12.071, 80.046, 12.167, 31.052, 16.685, 17.29, 13.978, 26.041, 17.297, 15.729, 16.196, 20.172, 26.426, 14.08, 21.342, 15.163, 20.239, 25.116, 20.587, 43.761, 23.269, 47.077, 19.232, 50.141, 11.863, 12.804, 12.747, 29.637, 12.335, 21.591, 15.719, 19.618, 21.585, 28.619, 12.445, 26.699, 16.351, 21.847, 20.912, 19.501, 21.879, 13.165, 21.38, 27.091, 24.463, 14.85, 13.529, 30.948, 19.752, 12.682, 12.532, 12.719, 22.563, 13.41, 14.619, 11.995, 14.284, 12.306, 12.753, 21.296, 124.892, 3996.234, 11.913, 18.152, 13.498, 11.814, 10.937, 19.314, 37.367, 14.177, 70.039, 19.547, 15.735, 13.05, 20.638, 11.877, 13.859, 13.343, 40.164, 11.822, 17.289, 35.918, 12.285, 12.212, 12.662, 13.895, 12.643, 12.57, 11.705, 11.917, 15.923, 12.026, 12.602, 20.243, 14.499, 11.567, 37.726, 11.684, 11.521, 15.356, 20.579, 11.969, 52.672, 13.083, 20.119, 12.052, 11.863, 11.559, 12.158, 11.909, 11.901, 22.554, 14.526, 18.525, 20.293, 11.455, 11.648, 11.442, 12.28, 12.789, 11.758, 12.591, 16.861, 13.018, 11.825, 11.632, 11.591, 11.672, 11.93, 11.563, 14.68, 30.488, 16.504, 13.528, 13.009, 13.588, 12.5, 12.104, 25.857, 13.07, 13.55, 28.106, 11.585, 14.889, 17.449, 13.065, 12.275, 26.733, 11.685, 19.237, 11.579, 93.459, 12.506, 11.666, 32.785, 12.106, 77.487, 56.479, 14.835, 11.578, 86.246, 15.457, 39.357, 330.617, 12.0, 11.988, 11.811, 12.092, 26.457, 11.791, 18.708, 15.089, 72.096, 87.265, 19.549, 34.23, 13.563, 12.554, 39.651, 17.018, 16.668, 15.586, 12.114, 14.485, 11.575, 12.16, 13.245, 42.835, 11.461, 32.453, 14.977, 66.258, 11.995, 42.714, 27.348, 36.007, 22.362, 14.085, 43.411, 14.517, 36.169, 45.993, 15.895, 14.916, 29.498, 11.685, 25.182, 14.869, 71.789, 20.902, 71.657, 13.764, 72.848, 59.481, 32.207, 36.18, 31.202, 11.826, 13.462, 96.275, 19.336, 12.08, 26.703, 20.947, 15.084, 11.839, 13.084, 27.579, 11.501, 11.842, 11.987, 11.908, 11.983, 12.028, 11.574, 14.294, 12.524, 11.877, 11.544, 16.275, 36.719, 96.327, 16.41, 14.044, 2423.875, 14.133, 24.302, 32.295, 11.815, 20.354, 156.383, 40.386, 14.146, 39.236, 12.534, 11.66, 11.319, 15.268, 12.897, 41.048, 12.639, 16.633, 11.85, 11.915, 11.736, 71.979, 13.921, 21.621, 11.854, 12.25, 11.465, 11.895, 91.904, 11.61, 30.826, 14.54, 11.289, 36.172, 25.894, 21.658, 15.872, 14.355, 16.06, 11.747, 13.526, 13.196, 20.695, 24.118, 17.41, 14.834, 16.309, 25.145, 12.723, 14.039, 14.016, 11.999, 13.744, 12.083, 11.195, 17.475, 13.924, 15.337, 11.627, 11.342, 11.645, 11.646, 13.299, 14.618, 11.5, 47.292, 29.78, 16.894, 15.19, 15.572, 15.931, 14.389, 21.499, 13.762, 25.25, 13.905, 14.049, 15.511, 11.854, 15.725, 16.412, 19.791, 11.863, 19.175, 12.356, 41.246, 12.099, 11.806, 16.944, 15.994, 41.01, 12.746, 11.822, 19.284, 81.131, 11.74, 12.411, 14.823, 30.709, 11.631, 16.757, 17.628, 50.809, 11.38, 13.097, 57.918, 14.008, 15.035, 14.893, 20.148, 24.111, 20.763, 11.483, 14.219, 14.985, 12.744, 11.676, 20.158, 17.476, 14.488, 21.595, 19.133, 18.445, 12.107, 12.77, 11.931, 16.227, 12.596, 11.361, 11.644, 44.99, 7882.175, 136.456, 12.293, 12.004, 15.34, 12.203, 15.276, 12.104, 13.109, 17.787, 14.919, 39.126, 13.637, 16.239, 12.266, 12.629, 26.973, 12.089, 13.099, 15.153, 60.068, 12.286, 63.135, 16.44, 13.861, 13.651, 16.526, 16.615, 13.974, 11.929, 11.52, 12.827, 15.208, 36.788, 12.067, 12.024, 13.945, 15.693, 11.861, 22.227, 32.851, 11.732, 11.748, 12.37, 11.697, 12.39, 12.179, 13.851, 12.224, 11.806, 12.088, 11.952, 13.969, 17.185, 17.229, 28.957, 12.605, 31.74, 33.354, 14.913, 13.425, 11.859, 12.339, 12.117, 12.059, 20.404, 11.943, 12.436, 12.158, 24.619, 14.206, 14.527, 39.314, 23.844, 12.208, 11.699, 12.267, 12.482, 18.604, 12.082, 14.764, 19.028, 15.162, 11.882, 14.441, 51.485, 71.832, 82.733, 12.341, 22.977, 56.703, 56.653, 12.844, 31.801, 22.023, 13.086, 14.42, 11.612, 12.963, 11.952, 11.5, 13.923, 12.662, 11.657, 12.017, 72.955, 20.635, 67.766, 69.516, 56.698, 14.201, 12.204, 30.184, 49.14, 74.423, 28.552, 26.501, 24.413, 85.284, 22.864, 28.631, 13.644, 15.488, 4519.911, 17.135, 20.267, 110.757, 434.099, 323.497, 21.457, 14.405, 28.596, 13.099, 24.981, 12.62, 11.812, 11.726, 193.999, 97.515, 13.843, 32.043, 18.854, 1271.701, 1153.904, 35.478, 1718.775, 15.87, 19.957, 16.733, 11.863, 13.669, 26.12, 26.004, 12.119, 11.73, 12.079, 14.791, 12.137, 12.381, 11.744, 12.526, 11.931, 53.656, 11.85, 13.16, 26.187, 11.817, 12.509, 13.986, 14.796, 11.618, 12.44, 12.142, 16.123, 14.455, 12.877, 12.331, 11.923, 11.291, 11.824, 12.075, 12.156, 11.893, 16.677, 13.469, 14.563, 11.946, 12.503, 12.162, 32.511, 20.595, 11.89, 65.545, 12.217, 11.7, 26.412, 11.636, 15.354, 12.582, 13.942, 18.929, 12.328, 26.494, 12.001, 24.103, 18.346, 13.095, 48.477, 13.343, 13.036, 13.616, 16.736, 18.438, 12.922, 11.59, 13.156, 27.812, 17.67, 11.656, 12.527, 13.824, 13.626, 13.088, 11.897, 12.392, 11.694, 12.619, 12.33, 43.339, 13.043, 13.113, 13.338, 13.81, 12.313, 13.966, 39.024, 50.907, 11.265, 12.405, 11.886, 11.767, 11.843, 11.813, 13.587, 14.133, 18.036, 37.616, 15.18, 13.292, 12.016, 4667.954, 112159.349, 38.038, 78.216, 17.476, 78.468, 17.056, 81.0, 12.079, 102.588, 15.862, 16.471, 12.741, 12.563, 16.048, 17.187, 99.046, 37.022, 39.232, 14.467, 29.65, 18.18, 16.691, 19.177, 13.762, 92.378, 29.151, 35.311, 55.055, 111.93, 21.435, 13.933, 14.254, 13.771, 13.101, 20.924, 12.224, 48.958, 96.072, 12.996, 54.308, 15.609, 208.861, 243.439, 96.917, 12.165, 33.564, 18.074, 14.971, 11.895, 12.656, 11.831, 14.985, 20.303, 48.438, 32.048, 17.977, 11.882, 16.24, 19.033, 25.462, 15.578, 12.21, 23.444, 13.797, 12.661, 16.406, 12.327, 12.539, 12.028, 16.005, 16.886, 70.928, 11.505, 11.676, 19.558, 11.369, 44.872, 15.078, 11.218, 11.907, 12.126, 11.338, 26.054, 14.478, 104.213, 11.492, 11.888, 42.159, 23.222, 12.141, 21287.244, 26.951, 72.193, 135.59, 17.447, 33.306, 20.05, 11.584, 11.828, 11.816, 34.407, 32.736, 15.23, 32.823, 40.734, 20.894, 14.588, 40.555, 19.626, 24.526, 12.715, 12.968, 13.095, 16.496, 13.529, 11.826, 12.75, 13.595, 12.406, 12.306, 15.045, 63321.934, 33.299, 7289.001, 43.001, 13.578, 11.818, 10.946, 3914.566, 17.331, 11.737, 3136.208, 611.734, 19.132, 29.408, 454.978, 79.325, 475.95, 1288.93, 1265.238, 16.157, 17.701, 377.938, 5526.844, 15.81, 16.377, 20.013, 19.889, 15.858, 180.007, 16.52, 856.59, 56.382, 19595.241, 46422.86, 5529.425, 464.933, 15.132, 6127.503, 13.808, 15.545, 192.427, 40.392, 205.969, 12.508, 1913.916, 1071.694, 167526.858, 71098.012, 298.763, 374.614, 429.682, 692.336, 366.141, 332.88, 299.721, 1657.752, 630.689, 504.916, 2956.333, 768.997, 306.863, 422.41, 315.534, 373.507, 318.792, 482.098, 415.696, 316.693, 308.666, 459.939, 849.683, 624.223, 664.606, 985.119, 1062.891, 617.844, 628.908, 605.448, 644.012, 3955.79, 854.559, 613.593, 18819.294, 4194.572, 1103.326, 1637.704, 829.911, 86992.955, 304.517, 334.024, 317.908, 331.243, 31431.987, 314.598, 319.957, 44084.669, 308.388, 312.143, 318.458, 309.416, 320.455, 315.008, 1498.999, 316.151, 35704.125, 386.992, 366.042, 425.305]\n"
     ]
    }
   ],
   "source": [
    "import datetime\n",
    "\n",
    "top_user_ts = user_time_sorted['ts'].iloc[0]\n",
    "top_user_ts.sort()\n",
    "print(top_user_ts)\n",
    "\n",
    "def str_to_dt(dt):\n",
    "    dt = datetime.datetime.strptime(dt.replace(\" UTC\", \"+0000\"), '%Y-%m-%d %H:%M:%S.%f%z')\n",
    "    return dt\n",
    "\n",
    "top1 = np.array([str_to_dt(x) for x in top_user_ts[1:]])\n",
    "top2 = np.array([str_to_dt(x) for x in top_user_ts[:-1]])\n",
    "diff = top1 - top2\n",
    "diff = [x.total_seconds() for x in diff]\n",
    "print(diff)"
   ]
  }
 ],
 "metadata": {
  "interpreter": {
   "hash": "40d3a090f54c6569ab1632332b64b2c03c39dcf918b08424e98f38b5ae0af88f"
  },
  "kernelspec": {
   "display_name": "Python 3.8.8 ('base')",
   "language": "python",
   "name": "python3"
  },
  "language_info": {
   "codemirror_mode": {
    "name": "ipython",
    "version": 3
   },
   "file_extension": ".py",
   "mimetype": "text/x-python",
   "name": "python",
   "nbconvert_exporter": "python",
   "pygments_lexer": "ipython3",
   "version": "3.8.8"
  },
  "orig_nbformat": 4
 },
 "nbformat": 4,
 "nbformat_minor": 2
}
